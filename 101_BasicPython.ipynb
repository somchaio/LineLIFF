{
  "nbformat": 4,
  "nbformat_minor": 0,
  "metadata": {
    "colab": {
      "name": "101_BasicPython.ipynb",
      "provenance": [],
      "authorship_tag": "ABX9TyMcLLA5vKulqe2wPXdYlp0g",
      "include_colab_link": true
    },
    "kernelspec": {
      "name": "python3",
      "display_name": "Python 3"
    },
    "language_info": {
      "name": "python"
    }
  },
  "cells": [
    {
      "cell_type": "markdown",
      "metadata": {
        "id": "view-in-github",
        "colab_type": "text"
      },
      "source": [
        "<a href=\"https://colab.research.google.com/github/somchaio/LineLIFF/blob/master/101_BasicPython.ipynb\" target=\"_parent\"><img src=\"https://colab.research.google.com/assets/colab-badge.svg\" alt=\"Open In Colab\"/></a>"
      ]
    },
    {
      "cell_type": "code",
      "metadata": {
        "id": "JRrf1IqNQS0L"
      },
      "source": [
        "# Run with cli $ py print.py\n",
        "# string: text \n",
        "# Number: interger, float\n",
        "# Boolean: True, False \n",
        "'''\n",
        "Multi-line comment\n",
        "'''\n",
        "\n",
        "print('Hello world')\n",
        "print(-1)\n",
        "print(0.98)\n",
        "print(-1+9)\n",
        "print(True)\n",
        "print(False)\n",
        "print('Somchai J. \\t' + 'NT')\n",
        "print('Somchai O. \\n' + 'NT')"
      ],
      "execution_count": null,
      "outputs": []
    },
    {
      "cell_type": "code",
      "metadata": {
        "id": "ISG4HY05QqIR"
      },
      "source": [
        "# Data Type & Variable\n",
        "\n",
        "x = 20 # integer\n",
        "s = 'somchai' # string\n",
        "z = True\n",
        "\n",
        "print(f'Value of x: {x} Type : {type(x)}')\n",
        "print(f'Value of s: {s} Type : {type(s)}')\n",
        "print(f'Value of z: {z} Type : {type(z)}')\n",
        "\n",
        "print(s + str(x))"
      ],
      "execution_count": null,
      "outputs": []
    },
    {
      "cell_type": "code",
      "metadata": {
        "id": "6EBlQKE_RhxY"
      },
      "source": [
        "# กฏการตั้งชื่อ\n",
        "'''\n",
        "1. เป็นตัวเลข อักษร เครื่องหมาย\n",
        "2. ห้ามขึ้นต้นด้วยสัญลักษณ์ ยกเว้น _\n",
        "3. ห้ามซ้ำกับ keyword\n",
        "4. case sensitive\n",
        "'''"
      ],
      "execution_count": null,
      "outputs": []
    },
    {
      "cell_type": "code",
      "metadata": {
        "id": "fa6z4VfeS6Qu"
      },
      "source": [
        "# Convert Data type\n",
        "a = 10\n",
        "b = 20.9\n",
        "c = 'nahm'\n",
        "d = True\n",
        "e = '100'\n",
        "\n",
        "print('a:',a,'type is',type(a))\n",
        "print(f'Convert \"a\" to string with str(a) is {type(str(a))}','value:',str(a))\n",
        "print(f'Convert \"a\" to float with float(a) is {type(float(a))}','value:',float(a))\n",
        "print('b:',b,'type is',type(b))\n",
        "print(f'Convert \"b\" to integer with int(b) is {type(int(b))}','value:',int(b))\n",
        "print(f'Convert \"b\" to string with str(b) is {type(str(b))}','value:',str(b))\n",
        "\n",
        "int_e = int(e)\n",
        "print(a+b+int_e,type(a+b+int_e))\n"
      ],
      "execution_count": null,
      "outputs": []
    },
    {
      "cell_type": "code",
      "metadata": {
        "id": "5wGDhwKGSyFq"
      },
      "source": [
        "# Using input & Calulate variable\n",
        "var1 = eval(input('Please input var 1 [eval(input(...))]: '))\n",
        "var2 = int(input('Please input var 2 [int(input(...))]: '))\n",
        "\n",
        "var3 = input('Please input var 3 : ')\n",
        "var4 = input('Please input var 4 : ')\n",
        "\n",
        "print('Var 1 eval() :',var1, ' ', type(var1))\n",
        "print('Var 2 int()  :',var2, ' ', type(var2))\n",
        "print('Var 1 + Var 2 = ',var1+var2)\n",
        "\n",
        "print('Var 3 :',var3, ' ', type(var3))\n",
        "print('Var 4 :',var4, ' ', type(var4))\n",
        "print('Var 3 + Var 4 = ',var3+var4)"
      ],
      "execution_count": null,
      "outputs": []
    },
    {
      "cell_type": "code",
      "metadata": {
        "id": "drcG8dxAT8UX"
      },
      "source": [
        "# Evaluation Condition\n",
        "\n",
        "x,y,z = 8,9,5\n",
        "print(f'x:{8}, y:{9}, z:{10}')\n",
        "print('Value of x is greater than y :', x>y)\n",
        "print('Value of x is less  than y :', x<y)\n",
        "print('Value of x is equal to y :', x==y)\n",
        "print('Value of x is not equal to y :', x!=y)\n",
        "print('Value of x is greater or equal to y :', x>=y)\n",
        "print('Value of x is greater than y and y greater than z :', x>y>z)\n",
        "print('Value of x is less than y and y greater than z :', x<y>z)\n"
      ],
      "execution_count": null,
      "outputs": []
    },
    {
      "cell_type": "code",
      "metadata": {
        "id": "c8XrDu1uU8LF"
      },
      "source": [
        "# Combinding Operator\n",
        "\n",
        "x = (5>10)\n",
        "y = (10==10)\n",
        "\n",
        "z = x and y\n",
        "print(f'x = (5>10) : {5>10} and y = (10==10) : {10==10}')\n",
        "print('Then x and y : ', x and y)\n",
        "print('Then x or y : ', x or y)\n"
      ],
      "execution_count": null,
      "outputs": []
    },
    {
      "cell_type": "code",
      "metadata": {
        "id": "catgSGsGVfyx"
      },
      "source": [
        "# Compound Assignment\n",
        "\n",
        "x = 10\n",
        "print('x : ',x)\n",
        "x+=5\n",
        "print(f'x=x+5 : compound assignment => x+=5 : {x}')\n",
        "x-=18\n",
        "print(f'x=x-18 : compound assignment => x-=18 : {x}')\n",
        "x*=5\n",
        "print(f'x=x*5 : compound assignment => x*=15 : {x}')\n",
        "x/=3\n",
        "print(f'x=x/3 : compound assignment => x/=3 : {x}')\n",
        "x**=2\n",
        "print(f'x=x**3 : compound assignment => x**=3 : {x}')\n",
        "x%=3\n",
        "print(f'x=x%3 : compound assignment => x%=3 : {x}')"
      ],
      "execution_count": null,
      "outputs": []
    },
    {
      "cell_type": "code",
      "metadata": {
        "id": "Ww2TMRq-SjRk"
      },
      "source": [
        "# Operation (Order precendence)\n",
        "\n",
        "print(\n",
        "\"\\033[0;33;40m\"\n",
        "\"====================== \\n\"\n",
        "\"Order precendence : \\n\"\n",
        "\"1. () :: Evaluate first, Innermost first, Left to right \\n\"\n",
        "\"2. -, +, --, ++, sizeof, (type) :: Right to left \\n\"  \n",
        "\"3. *, / or % :: Left to right \\n\"\n",
        "\"4. + or - :: Left to right \\n\"\n",
        "\"5. = :: Right to left\\n\"\n",
        "\"======================\"\n",
        "\"\\033[0;0m\"\n",
        ")\n",
        "x = 5+2*10\n",
        "print(\"x = 5+2*10 :\",x)\n",
        "x = (5+2)*10 \n",
        "print(\"x = (5+2)*10 :\",x)\n",
        "x = (5+2)-4*10 \n",
        "print(\"x = (5+2)-4*10 :\",x)\n",
        "x = (5+2)/10*2\n",
        "print(\"x = (5+2)/10*2 :\",x)\n",
        "x = (5+2)/(10*2)\n",
        "print(\"x = (5+2)/(10*2) :\",x)\n",
        "\n"
      ],
      "execution_count": null,
      "outputs": []
    },
    {
      "cell_type": "code",
      "metadata": {
        "id": "bfuqGFdvWIxi"
      },
      "source": [
        "weight = eval(input(\"Your weight (kg ): \"))\n",
        "height = eval(input(\"Your height (cm) : \"))\n",
        "\n",
        "height/=100\n",
        "\n",
        "bmi = weight/(height**2)"
      ],
      "execution_count": null,
      "outputs": []
    },
    {
      "cell_type": "code",
      "metadata": {
        "colab": {
          "base_uri": "https://localhost:8080/"
        },
        "id": "zmft5qOgXQVz",
        "outputId": "92f4930f-31e2-46b7-ef28-518abebfbdee"
      },
      "source": [
        "# BMI indicator Assignment\n",
        "# BMI = Weight (kg) / power 2 of height (m)\n",
        "\n",
        "weight = eval(input(\"Your weight (kg ): \"))\n",
        "height = eval(input(\"Your height (cm) : \"))\n",
        "\n",
        "height/=100\n",
        "print (height)\n",
        "\n",
        "bmi = weight/(height**2)\n",
        "print(f\"Your BMI : {bmi}\")\n",
        "print('My BMI :',format(bmi))\n",
        "print('My BMI : {}'.format(bmi))"
      ],
      "execution_count": 20,
      "outputs": [
        {
          "output_type": "stream",
          "name": "stdout",
          "text": [
            "Your weight (kg ): 65\n",
            "Your height (cm) : 165\n",
            "1.65\n",
            "Your BMI : 23.875114784205696\n",
            "My BMI : 23.875114784205696\n",
            "My BMI : 23.875114784205696\n"
          ]
        }
      ]
    },
    {
      "cell_type": "code",
      "metadata": {
        "id": "73htEGZEXzEW"
      },
      "source": [
        "# Branching using conditional statements\n",
        "\n",
        "'''\n",
        "Usage : if \n",
        "if expression:\n",
        "    statement\n",
        "else:\n",
        "    statement\n",
        "statement\n",
        "'''\n",
        "age = int(input('Input your age : '))\n",
        "\n",
        "print(f'type of age before compare (age): {type(age)}')\n",
        "print(f'type of age after compare (age==15): {type(age==15)}')\n",
        "\n",
        "if age <=17:\n",
        "    print(\"You're child \"\n",
        "if age >= 18 and age <= 20:\n",
        "    print(\"You're youth \")\n",
        "if age >=21 and age <= 30:\n",
        "    print(\"You're adult \")\n",
        "if age >=31 and age <= 50:\n",
        "    print(\"You're worker age \")\n",
        "elif age >= 51:\n",
        "    print(\"You're elder \")\n",
        "print(\"End if statement\")"
      ],
      "execution_count": null,
      "outputs": []
    },
    {
      "cell_type": "code",
      "metadata": {
        "id": "C9_iYOkjmjtq"
      },
      "source": [
        "# Compare value assignment \n",
        "\n",
        "print(\n",
        "\"\\033[0;33;40m\"\n",
        "\"======================================================= \\n\"\n",
        "\"Convert input to string & compare them with ascii value \\n\"\n",
        "\"======================================================= \\n\"\n",
        "\"\\033[0;0m\"\n",
        ")\n",
        "a = str(input(\"Input first string or number : \"))\n",
        "b = str(input(\"Input second string or number : \"))\n",
        "\n",
        "print(f'First input : {a} : ascii value = {ord(a)}')\n",
        "print(f'Second input : {b} : ascii value = {ord(b)}')\n",
        "if a>b :\n",
        "    print(f'First input : {a} is greater than second input : {b}')\n",
        "if a<b :\n",
        "    print(f'First input : {a} is less than second input : {b}')\n",
        "elif a==b:\n",
        "    print(f'First input : {a} and second input : {b} are equal')"
      ],
      "execution_count": null,
      "outputs": []
    },
    {
      "cell_type": "code",
      "metadata": {
        "id": "iL3etzdgnTq1"
      },
      "source": [
        "# Even & Odd number check assignment\n",
        "\n",
        "print(\n",
        "\"\\033[0;33;40m\"\n",
        "\"================================================================= \\n\"\n",
        "\"Convert input to string & check them odd or even with ascii value \\n\"\n",
        "\"================================================================= \\n\"\n",
        "\"\\033[0;0m\"\n",
        ")\n",
        "a = str(input(\"Input first string or number : \"))\n",
        "# b = str(input(\"Input second string or number : \"))\n",
        "\n",
        "print(f'Input : {a} : ascii value = {ord(a)}')\n",
        "# print(f'Second input : {b} : ascii value = {ord(b)}')\n",
        "if ord(a)%2 == 0 :\n",
        "    print(f': {a} is Even number')\n",
        "else:\n",
        "    print(f': {a} is Odd number')"
      ],
      "execution_count": null,
      "outputs": []
    },
    {
      "cell_type": "code",
      "metadata": {
        "id": "aVF2y5AxqGaA"
      },
      "source": [
        "# Change Bill assignment\n",
        "\n",
        "print(\n",
        "\"\\033[0;33;40m\"\n",
        "\"============================== \\n\"\n",
        "\"Exchange to bill 500 and 100  \\n\"\n",
        "\"============================== \\n\"\n",
        "\"\\033[0;0m\"\n",
        ")\n",
        "a = int(input(\"Input you bill to change : \"))\n",
        "\n",
        "if a>=1000 :\n",
        "    print(f'Get 1000  : {a//1000} Bill')\n",
        "    a%=1000\n",
        "if a>=500 :\n",
        "    print(f'Get 500  : {a//500} Bill')\n",
        "    a%=500\n",
        "if a>=100 :\n",
        "    print(f'Get 100  : {a//100} Bill')\n",
        "    a%=100\n",
        "if a>=50 :\n",
        "    print(f'Get 50  : {a//50} Bill')\n",
        "    a%=50\n",
        "if a>=20 :\n",
        "    print(f'Get 20  : {a//20} Bill')\n",
        "    a%=20\n",
        "if a>=10 :\n",
        "    print(f'Get 10  : {a//10} Coin')\n",
        "    a%=10\n",
        "if a>=5 :\n",
        "    print(f'Get 5  : {a//5} Coin')\n",
        "    a%=5\n",
        "if a>=2 :\n",
        "    print(f'Get 2  : {a//2} Coin')\n",
        "    a%=2\n",
        "if a==1 :\n",
        "    print(f'Get 1  : 1 Coin')"
      ],
      "execution_count": null,
      "outputs": []
    },
    {
      "cell_type": "code",
      "metadata": {
        "id": "oE7TNF_WrDes"
      },
      "source": [
        "# Convert year format assignment\n",
        "\n",
        "print(\n",
        "\"\\033[0;33;40m\"\n",
        "\"======================================================= \\n\"\n",
        "\"Convert Year A.D <=> B.E \\n\"\n",
        "\"======================================================= \\n\"\n",
        "\"\\033[0;0m\"\n",
        ")\n",
        "ty = input(\"Input year in A.D. type 1 or 2 for B.E  : \")\n",
        "# print(type(ty))\n",
        "if ty == '1' :\n",
        "    yr = input(\"Input year in A.D : \")\n",
        "    print(f'Convert A.D {yr} to B.E {int(yr)+543}' )\n",
        "if ty == '2' :\n",
        "    yr = input(\"Input year in B.E : \")\n",
        "    print(f'Convert B.E {yr} to A.D {int(yr)-543}' )"
      ],
      "execution_count": null,
      "outputs": []
    },
    {
      "cell_type": "code",
      "metadata": {
        "id": "dFoy4TjCrZxa"
      },
      "source": [
        "# BMI indicator assignment\n",
        "\n",
        "print(\n",
        "\"\\033[0;33;40m\"\n",
        "\"======================================================= \\n\"\n",
        "\"BMI indicator path : \\n\"\n",
        "\"ค่า BMI < 18.5       => อยู่ในเกณฑ์น้ำหนักน้อยหรือผอม \\n\"\n",
        "\"ค่า BMI 18.5 – 22.90 => อยู่ในเกณฑ์ปกติ \\n\"\n",
        "\"ค่า BMI 23 – 24.90   => น้ำหนักเกิน \\n\"\n",
        "\"ค่า BMI 25 – 29.90   => โรคอ้วนระดับที่ 1 \\n\"\n",
        "\"ค่า BMI 30 ขึ้นไป      => โรคอ้วนระดับที่ 2 \\n\"\n",
        "\"======================================================= \\n\"\n",
        "\"\\033[0;0m\"\n",
        ")\n",
        "# BMI indicator\n",
        "# BMI = Weight (kg) / power 2 of height (m)\n",
        "weight = eval(input(\"Your weight (kg ): \"))\n",
        "height = eval(input(\"Your height (cm) : \"))\n",
        "\n",
        "height/=100\n",
        "\n",
        "# print (height)\n",
        "bmi = weight/(height**2)\n",
        "print(f\"Your BMI : {bmi}\")\n",
        "if bmi < 18.5 :\n",
        "    result = 'อยู่ในเกณฑ์น้ำหนักน้อยหรือผอม '\n",
        "elif bmi >=18.6 and bmi <= 22.9 :\n",
        "    result ='อยู่ในเกณฑ์ปกติ'\n",
        "elif bmi >=23 and bmi <= 24.9 :\n",
        "    result ='น้ำหนักเกิน '\n",
        "elif bmi >=25 and bmi <= 29.9 :\n",
        "    result ='โรคอ้วนระดับที่ 1'\n",
        "elif bmi >=30 :\n",
        "    result ='โรคอ้วนระดับที่ 2'\n",
        "else :\n",
        "    result ='ไม่สามารถประเมินได้'\n",
        "\n",
        "print(result)"
      ],
      "execution_count": null,
      "outputs": []
    },
    {
      "cell_type": "code",
      "metadata": {
        "colab": {
          "base_uri": "https://localhost:8080/"
        },
        "id": "PZPooi-1sY1U",
        "outputId": "9e4f0170-27b3-4147-c6ec-07780544cde8"
      },
      "source": [
        "%%writefile string_functions.py\n",
        "# Built-in String Function\n",
        "\n",
        "myName = 'Somchai Jitt'\n",
        "myAge = 55\n",
        "myJob = 'NT'\n",
        "print(\n",
        "\"\\033[0;33;40m\"\n",
        "\"======================================================= \\n\"\n",
        "\"String: len(varStr) \\n\"\n",
        "\"Strip: varStr.strip() \\n\"\n",
        "\"======================================================= \"\n",
        "\"\\033[0;0m\"\n",
        ")\n",
        "lenName = len(myName)\n",
        "print(myName, lenName)\n",
        "print(myName[0:7])\n",
        "print(myName[lenName-1])\n",
        "stripName = myName.strip()\n",
        "print(stripName)\n",
        "\n",
        "print('myName = ', myName)\n",
        "print('myAge : ',55)\n",
        "print('myJob = ', myJob)\n",
        "print('Text with format():')\n",
        "text = 'My name : {} \\t My age : {} \\t My job : {}'\n",
        "print(\n",
        "\"\\033[0;33;40m\"\n",
        "\"======================================================= \\n\"\n",
        "\"text = 'My name : {} \\t My age : {} \\t My job : {}' \\n\"\n",
        "\"print(text.format(myName, myAge, myJob)) \\n\"\n",
        "\"======================================================= \"\n",
        "\"\\033[0;0m\"\n",
        ")\n",
        "print(text.format(myName, myAge, myJob))\n",
        "\n",
        "print(\n",
        "\"\\033[0;33;40m\"\n",
        "\"======================================================= \\n\"\n",
        "\"String count : varStr.count(wordToCount) \\n\"\n",
        "\"======================================================= \"\n",
        "\"\\033[0;0m\"\n",
        ")\n",
        "\n",
        "fruits = 'mango, durian, ข้าว, ข้าวมันไก่, durian'\n",
        "print(f\"Count mango = {fruits.count('mango')}\")\n",
        "\n",
        "print(\n",
        "\"\\033[0;33;40m\"\n",
        "\"======================================================= \\n\"\n",
        "\"String check startwith : varStr.startswith(wordToFind) \\n\"\n",
        "\"It will return boolean \\n\"\n",
        "\"======================================================= \"\n",
        "\"\\033[0;0m\"\n",
        ")\n",
        "\n",
        "name = 'Mr. Jitt'\n",
        "print(f\"Check word starts with  Mr. = {name.startswith('mr.')}\")\n",
        "\n",
        "print(\n",
        "\"\\033[0;33;40m\"\n",
        "\"======================================================= \\n\"\n",
        "\"String check endswith : varStr.endswith(wordToFind) \\n\"\n",
        "\"It will return boolean \\n\"\n",
        "\"======================================================= \"\n",
        "\"\\033[0;0m\"\n",
        ")\n",
        "\n",
        "name = 'Mr. Jitt'\n",
        "print(f\"Check word ends with  Jitt. = {name.endswith('Jitt')}\")"
      ],
      "execution_count": 8,
      "outputs": [
        {
          "output_type": "stream",
          "name": "stdout",
          "text": [
            "Writing string_functions.py\n"
          ]
        }
      ]
    },
    {
      "cell_type": "code",
      "metadata": {
        "colab": {
          "base_uri": "https://localhost:8080/",
          "height": 156
        },
        "id": "NSvbtL1r2VEO",
        "outputId": "0894e41c-c059-4fb2-bd67-296ad2c73744"
      },
      "source": [
        "%lsmagic"
      ],
      "execution_count": 2,
      "outputs": [
        {
          "output_type": "execute_result",
          "data": {
            "application/json": {
              "cell": {
                "prun": "ExecutionMagics",
                "file": "Other",
                "!": "OSMagics",
                "capture": "ExecutionMagics",
                "timeit": "ExecutionMagics",
                "script": "ScriptMagics",
                "pypy": "Other",
                "system": "OSMagics",
                "perl": "Other",
                "html": "DisplayMagics",
                "bash": "Other",
                "shell": "Other",
                "HTML": "Other",
                "python": "Other",
                "SVG": "Other",
                "javascript": "DisplayMagics",
                "bigquery": "Other",
                "js": "DisplayMagics",
                "writefile": "OSMagics",
                "ruby": "Other",
                "python3": "Other",
                "python2": "Other",
                "latex": "DisplayMagics",
                "sx": "OSMagics",
                "svg": "DisplayMagics",
                "sh": "Other",
                "time": "ExecutionMagics",
                "debug": "ExecutionMagics"
              },
              "line": {
                "psource": "NamespaceMagics",
                "logstart": "LoggingMagics",
                "popd": "OSMagics",
                "tensorflow_version": "Other",
                "loadpy": "CodeMagics",
                "colors": "BasicMagics",
                "who_ls": "NamespaceMagics",
                "lf": "Other",
                "ll": "Other",
                "pprint": "BasicMagics",
                "lk": "Other",
                "ls": "Other",
                "save": "CodeMagics",
                "tb": "ExecutionMagics",
                "lx": "Other",
                "pylab": "PylabMagics",
                "killbgscripts": "ScriptMagics",
                "quickref": "BasicMagics",
                "magic": "BasicMagics",
                "dhist": "OSMagics",
                "edit": "KernelMagics",
                "logstop": "LoggingMagics",
                "gui": "BasicMagics",
                "prun": "ExecutionMagics",
                "debug": "ExecutionMagics",
                "page": "BasicMagics",
                "logstate": "LoggingMagics",
                "ed": "Other",
                "pushd": "OSMagics",
                "timeit": "ExecutionMagics",
                "set_env": "OSMagics",
                "rehashx": "OSMagics",
                "hist": "Other",
                "qtconsole": "KernelMagics",
                "rm": "Other",
                "dirs": "OSMagics",
                "run": "ExecutionMagics",
                "reset_selective": "NamespaceMagics",
                "pinfo2": "NamespaceMagics",
                "matplotlib": "PylabMagics",
                "unload_ext": "ExtensionMagics",
                "doctest_mode": "BasicMagics",
                "logoff": "LoggingMagics",
                "reload_ext": "ExtensionMagics",
                "pdb": "ExecutionMagics",
                "load": "CodeMagics",
                "lsmagic": "BasicMagics",
                "autosave": "KernelMagics",
                "cd": "OSMagics",
                "pastebin": "CodeMagics",
                "alias_magic": "BasicMagics",
                "cp": "Other",
                "autocall": "AutoMagics",
                "ldir": "Other",
                "bookmark": "OSMagics",
                "connect_info": "KernelMagics",
                "mkdir": "Other",
                "system": "OSMagics",
                "whos": "NamespaceMagics",
                "rmdir": "Other",
                "automagic": "AutoMagics",
                "store": "StoreMagics",
                "more": "KernelMagics",
                "shell": "Other",
                "pdef": "NamespaceMagics",
                "precision": "BasicMagics",
                "pinfo": "NamespaceMagics",
                "pwd": "OSMagics",
                "psearch": "NamespaceMagics",
                "reset": "NamespaceMagics",
                "recall": "HistoryMagics",
                "xdel": "NamespaceMagics",
                "xmode": "BasicMagics",
                "cat": "Other",
                "mv": "Other",
                "rerun": "HistoryMagics",
                "logon": "LoggingMagics",
                "history": "HistoryMagics",
                "pycat": "OSMagics",
                "pip": "Other",
                "unalias": "OSMagics",
                "env": "OSMagics",
                "load_ext": "ExtensionMagics",
                "config": "ConfigMagics",
                "profile": "BasicMagics",
                "pfile": "NamespaceMagics",
                "less": "KernelMagics",
                "who": "NamespaceMagics",
                "notebook": "BasicMagics",
                "man": "KernelMagics",
                "sx": "OSMagics",
                "macro": "ExecutionMagics",
                "clear": "KernelMagics",
                "alias": "OSMagics",
                "time": "ExecutionMagics",
                "sc": "OSMagics",
                "rep": "Other",
                "pdoc": "NamespaceMagics"
              }
            },
            "text/plain": [
              "Available line magics:\n",
              "%alias  %alias_magic  %autocall  %automagic  %autosave  %bookmark  %cat  %cd  %clear  %colors  %config  %connect_info  %cp  %debug  %dhist  %dirs  %doctest_mode  %ed  %edit  %env  %gui  %hist  %history  %killbgscripts  %ldir  %less  %lf  %lk  %ll  %load  %load_ext  %loadpy  %logoff  %logon  %logstart  %logstate  %logstop  %ls  %lsmagic  %lx  %macro  %magic  %man  %matplotlib  %mkdir  %more  %mv  %notebook  %page  %pastebin  %pdb  %pdef  %pdoc  %pfile  %pinfo  %pinfo2  %pip  %popd  %pprint  %precision  %profile  %prun  %psearch  %psource  %pushd  %pwd  %pycat  %pylab  %qtconsole  %quickref  %recall  %rehashx  %reload_ext  %rep  %rerun  %reset  %reset_selective  %rm  %rmdir  %run  %save  %sc  %set_env  %shell  %store  %sx  %system  %tb  %tensorflow_version  %time  %timeit  %unalias  %unload_ext  %who  %who_ls  %whos  %xdel  %xmode\n",
              "\n",
              "Available cell magics:\n",
              "%%!  %%HTML  %%SVG  %%bash  %%bigquery  %%capture  %%debug  %%file  %%html  %%javascript  %%js  %%latex  %%perl  %%prun  %%pypy  %%python  %%python2  %%python3  %%ruby  %%script  %%sh  %%shell  %%svg  %%sx  %%system  %%time  %%timeit  %%writefile\n",
              "\n",
              "Automagic is ON, % prefix IS NOT needed for line magics."
            ]
          },
          "metadata": {},
          "execution_count": 2
        }
      ]
    },
    {
      "cell_type": "code",
      "metadata": {
        "id": "6k9NCVo62r0X"
      },
      "source": [
        "%run string_functions.py"
      ],
      "execution_count": null,
      "outputs": []
    },
    {
      "cell_type": "code",
      "metadata": {
        "id": "xj5LSKX74km5"
      },
      "source": [
        "# Convert Temperature Assignment with Nested Condition Statement\n",
        "\n",
        "print(\n",
        "\"\\033[0;33;40m\"\n",
        "\"======================================================= \\n\"\n",
        "\"Convert temperature ํC <=> ํF \\n\"\n",
        "\" C = (F - 32) x 5 / 9 \\n \"\n",
        "\" F = (C x 9 ) / 5 + 32 \\n\"\n",
        "\"======================================================= \\n\"\n",
        "\"\\033[0;0m\"\n",
        ")\n",
        "temp = input('Input temperature with unit ex. 45c or 45f : ')\n",
        "# print(type(temp))\n",
        "degree = temp[:-1]  # strip last digit , use digit 0 to last - 1 [:-1]\n",
        "unit = temp[-1]     # use last digit \n",
        "print('degree : ',degree)\n",
        "print('unit : ', unit.upper())\n",
        "\n",
        "if unit.upper() == 'C' or unit.upper() == 'F' : \n",
        "    if unit.upper() == 'F' :\n",
        "        print(f'Your input is : {degree} Fahrenheit degree')\n",
        "        f2c = (int(degree) - 32) * 5 / 9\n",
        "        print(f'Convert to degree celsius = {f2c} Celsius')\n",
        "    if unit.upper() == 'C' :\n",
        "        print(f'Your input is : {degree} Celsius degree')\n",
        "        f2c = (int(degree) * 9) / 5 + 32\n",
        "        print(f'Convert to degree fahrenheit : {f2c} Fahrenheit degree')\n",
        "else :\n",
        "    print('Your degree unit mismatch.. ')\n",
        "\n"
      ],
      "execution_count": null,
      "outputs": []
    },
    {
      "cell_type": "code",
      "metadata": {
        "id": "qdvA5-c15u54"
      },
      "source": [
        "# Using Loop Statement\n",
        "\n",
        "print(\n",
        "\"\\033[0;33;40m\"\n",
        "\"======================================================= \\n\"\n",
        "\"while loop \\n\"\n",
        "\"======================================================= \\n\"\n",
        "\"\\033[0;0m\"\n",
        ")\n",
        "\n",
        "num = int(input('Number of loop : '))\n",
        "i = 1\n",
        "sum = 0\n",
        "avg = 0\n",
        "while i <= num :\n",
        "    sum+=i\n",
        "    # print (f'Accumrative summation of i to {num} when i = {i}  : {sum}')\n",
        "    print ('Accumrative summation of i to {} when i = {}  : {}'.format(num,i,sum))\n",
        "    i+=1\n",
        "avg = sum/num\n",
        "print(f'Average : {avg} ')\n",
        "print('End loop.. ')"
      ],
      "execution_count": null,
      "outputs": []
    },
    {
      "cell_type": "code",
      "metadata": {
        "id": "zbGBQm0I9KRm"
      },
      "source": [
        "# Play with Loop\n",
        "%%time\n",
        "star = '*'\n",
        "max_lenght = 20\n",
        "\n",
        "while len(star) <= max_lenght:\n",
        "  print(star)\n",
        "  star += '*'\n",
        "\n",
        "while len(star) > 0:\n",
        "  print(star)\n",
        "  star = star[:-1]\n",
        "\n",
        "\n"
      ],
      "execution_count": null,
      "outputs": []
    },
    {
      "cell_type": "code",
      "metadata": {
        "id": "gZuaQiw477iF"
      },
      "source": [
        "# Using For Loop\n",
        "\n",
        "print(\n",
        "\"\\033[0;33;40m\"\n",
        "\"======================================================= \\n\"\n",
        "\"For loop \\n\"\n",
        "\"Usage: for i in range (n) : \\n\" \n",
        "\"Usage: for i in range (start,stop,step)\"\n",
        "\" when i will start from 0 until n-1 \\n\"\n",
        "\"======================================================= \\n\"\n",
        "\"\\033[0;0m\"\n",
        ")\n",
        "\n",
        "for i in range(5):\n",
        "    print('Hello word : ' + str(i))\n",
        "for i in range (1,10,2):\n",
        "    print(\"Hi with step 2: \" + str(i))\n",
        "    # print(f'Start : {i+1}')\n",
        "\n"
      ],
      "execution_count": null,
      "outputs": []
    },
    {
      "cell_type": "code",
      "metadata": {
        "id": "8JtByNH485CA"
      },
      "source": [
        "# Nested Loop\n",
        "\n",
        "print(\n",
        "\"\\033[0;33;40m\"\n",
        "\"======================================================= \\n\"\n",
        "\"loop in loop \\n\"\n",
        "\"======================================================= \\n\"\n",
        "\"\\033[0;0m\"\n",
        ")\n",
        "\n",
        "i = 1\n",
        "while i <= 5:\n",
        "    print('Count i = %d' % i)\n",
        "    i+=1\n",
        "    j = 1\n",
        "    while j <= 5:\n",
        "        print('Count j in i  = %d' % j)\n",
        "        j+=1\n",
        "\n",
        "count = 0\n",
        "for count in range(5):\n",
        "    print('Count i = %d' % count)\n",
        "    count+=1\n",
        "    inner = 0\n",
        "    for inner in range(5):\n",
        "        print('Count inner = %d' %inner)\n",
        "        inner+=1"
      ],
      "execution_count": null,
      "outputs": []
    },
    {
      "cell_type": "code",
      "metadata": {
        "id": "8epQYzqHA_yV"
      },
      "source": [
        "# Multiple Assignment\n",
        "\n",
        "%%time\n",
        "print(\n",
        "\"\\033[0;33;40m\"\n",
        "\"======================================================= \\n\"\n",
        "\"Multiplier Assignment \\n\"\n",
        "\"======================================================= \\n\"\n",
        "\"\\033[0;0m\"\n",
        ")\n",
        "col = int(input('Input setter number : '))\n",
        "row = int(input('Input multipiler number : '))\n",
        "i = 1\n",
        "j = 1\n",
        "# print(f\"x\\t 2 \\t 3 \\t 4 \\t 5 \\t 6 \\t 7 \\t 8 \\t 9 \\t 10 \\t 11 \\t 12\" )\n",
        "for i in range(1,row+1):\n",
        "    for j in range(1,col+1):\n",
        "        if j == col :\n",
        "            print(f\"{i*j}\\t \")\n",
        "        else:\n",
        "            if j == 1:\n",
        "                print(f\"\\033[0;33;40m {i*j}\\t\\033[0;0m\", end='', flush=True ) \n",
        "            else:\n",
        "                print(f\"{i*j}\\t  \", end='', flush=True) \n",
        "        j+=1\n",
        "    i+=1    \n",
        "\n"
      ],
      "execution_count": null,
      "outputs": []
    },
    {
      "cell_type": "code",
      "metadata": {
        "id": "N6zLTU0qCjNU"
      },
      "source": [
        "# Skip with Continue\n",
        "\n",
        "print(\n",
        "\"\\033[0;33;40m\"\n",
        "\"======================================================= \\n\"\n",
        "\"Continue (skip) \\n\"\n",
        "\"======================================================= \\n\"\n",
        "\"\\033[0;0m\"\n",
        ")\n",
        "\n",
        "i = 1\n",
        "for i in range(1, 200):\n",
        "    if i%2 == 0:\n",
        "        print('Skip :',i)\n",
        "        continue\n",
        "    print(i)\n",
        "    i+=1"
      ],
      "execution_count": null,
      "outputs": []
    },
    {
      "cell_type": "code",
      "metadata": {
        "id": "v88vAa9oDL8g"
      },
      "source": [
        "# Accumlative Sum Assignment\n",
        "\n",
        "print(\n",
        "\"\\033[0;33;40m\"\n",
        "\"======================================================= \\n\"\n",
        "\"Sum Assignment \\n\"\n",
        "\"======================================================= \\n\"\n",
        "\"\\033[0;0m\"\n",
        ")\n",
        "\n",
        "num = int(input('Number to make calculation : '))\n",
        "i = 1\n",
        "sum = 0\n",
        "avg = 0\n",
        "for i in range(num):\n",
        "    val = int(input(f'Value of number # {i+1} : '))\n",
        "    sum+=val\n",
        "    print (f'Accumrative summation of number # {i+1}  : {sum}')\n",
        "    i+=1\n",
        "avg = sum/num\n",
        "print(f'Average : {avg} ')\n",
        "print('End loop.. ')"
      ],
      "execution_count": null,
      "outputs": []
    },
    {
      "cell_type": "code",
      "metadata": {
        "id": "UoEf-QBEG9my"
      },
      "source": [
        "# Min, Max Assignment\n",
        "\n",
        "print(\n",
        "\"\\033[0;33;40m\"\n",
        "\"======================================================= \\n\"\n",
        "\"Min Max Assignment \\n\"\n",
        "\"======================================================= \\n\"\n",
        "\"\\033[0;0m\"\n",
        ")\n",
        "i, min, max = 0, 0, 0\n",
        "while True:\n",
        "    num = int(input('Input number ,type 0 to exit : '))\n",
        "    if num == 0:\n",
        "        break\n",
        "    if num > max:\n",
        "        max = num\n",
        "        if i == 0 :\n",
        "            min = num\n",
        "            i+=1\n",
        "    if num < min :\n",
        "        min = num\n",
        "\n",
        "    print( min , ' is minimum number')\n",
        "    print( max , ' is maximum number')\n"
      ],
      "execution_count": null,
      "outputs": []
    },
    {
      "cell_type": "code",
      "metadata": {
        "id": "lOhrKiLsLB8O"
      },
      "source": [
        "%%time\n",
        "print(\n",
        "\"\\033[0;33;40m\"\n",
        "\"======================================================= \\n\"\n",
        "\"Ladder number Assignment \\n\"\n",
        "\"======================================================= \\n\"\n",
        "\"\\033[0;0m\"\n",
        ")\n",
        "maxladder = int(input('Input  number : '))\n",
        "col = 1\n",
        "row = 1\n",
        "# print(f\"x\\t 2 \\t 3 \\t 4 \\t 5 \\t 6 \\t 7 \\t 8 \\t 9 \\t 10 \\t 11 \\t 12\" )\n",
        "for row in range(1,maxladder+1):\n",
        "    for col in range(1,row+1):\n",
        "        print(f\"{col}\", end='', flush=True )\n",
        "    print(f\" \")\n"
      ],
      "execution_count": null,
      "outputs": []
    },
    {
      "cell_type": "code",
      "metadata": {
        "id": "cOQ8DHmPRTzl"
      },
      "source": [
        "# Square Area Calculation Assignment\n",
        "\n",
        "print(\n",
        "\"\\033[0;33;40m\"\n",
        "\"======================================================= \\n\"\n",
        "\"Area Calculation Assignment \\n\"\n",
        "\"======================================================= \\n\"\n",
        "\"\\033[0;0m\"\n",
        ")\n",
        "xArea = int(input('Input x sq. area : '))\n",
        "col = 1\n",
        "row = 1\n",
        "for row in range(1,xArea+1):\n",
        "    for col in range(1,xArea+1):\n",
        "        print(f\"x  \", end='', flush=True )\n",
        "    print(f\" \")\n",
        "\n"
      ],
      "execution_count": null,
      "outputs": []
    },
    {
      "cell_type": "code",
      "metadata": {
        "colab": {
          "base_uri": "https://localhost:8080/"
        },
        "id": "JwDXwTfCToyU",
        "outputId": "b0b96385-8dee-417e-cece-8191bcd0fc9b"
      },
      "source": [
        "# Draw Table Assignment\n",
        "\n",
        "print(\n",
        "\"\\033[0;33;40m\"\n",
        "\"======================================================= \\n\"\n",
        "\"Draw Table Assignment \\n\"\n",
        "\"======================================================= \\n\"\n",
        "\"\\033[0;0m\"\n",
        ")\n",
        "xTable = int(input('Input x table area : '))\n",
        "col = 1\n",
        "row = 1\n",
        "for row in range(1,xTable+1):\n",
        "    for col in range(1,xTable+1):\n",
        "        '''   \n",
        "        if (row+col) %2 == 0:\n",
        "            print(f\" x \", end='', flush=True )\n",
        "        else:\n",
        "            print(f\" o \", end='', flush=True )\n",
        "        '''       \n",
        "        print(f\" x \", end='', flush=True ) if (row+col) %2 == 0  else print(f\" o \", end='', flush=True )\n",
        "        \n",
        "    print(f\" \")\n",
        "\n"
      ],
      "execution_count": 41,
      "outputs": [
        {
          "output_type": "stream",
          "name": "stdout",
          "text": [
            "\u001b[0;33;40m======================================================= \n",
            "Draw table Assignment \n",
            "======================================================= \n",
            "\u001b[0;0m\n",
            "Input x table area : 10\n",
            " x  o  x  o  x  o  x  o  x  o  \n",
            " o  x  o  x  o  x  o  x  o  x  \n",
            " x  o  x  o  x  o  x  o  x  o  \n",
            " o  x  o  x  o  x  o  x  o  x  \n",
            " x  o  x  o  x  o  x  o  x  o  \n",
            " o  x  o  x  o  x  o  x  o  x  \n",
            " x  o  x  o  x  o  x  o  x  o  \n",
            " o  x  o  x  o  x  o  x  o  x  \n",
            " x  o  x  o  x  o  x  o  x  o  \n",
            " o  x  o  x  o  x  o  x  o  x  \n"
          ]
        }
      ]
    },
    {
      "cell_type": "code",
      "metadata": {
        "id": "YvVlmxw-USoN"
      },
      "source": [
        "print(\n",
        "\"\\033[0;33;40m\"\n",
        "\"======================================================= \\n\"\n",
        "\"Draw border table Assignment \\n\"\n",
        "\"======================================================= \\n\"\n",
        "\"\\033[0;0m\"\n",
        ")\n",
        "xTable = int(input('Input x table area : '))\n",
        "col = 1\n",
        "row = 1\n",
        "for row in range(xTable):\n",
        "    for col in range(xTable):\n",
        "        if row == 0 or row == xTable-1 or col == 0 or col == xTable-1:\n",
        "            print(f\" x \", end='', flush=True )\n",
        "        else:\n",
        "            print(f\"   \", end='', flush=True )\n",
        "             \n",
        "    print(f\" \")\n",
        "\n"
      ],
      "execution_count": null,
      "outputs": []
    },
    {
      "cell_type": "code",
      "metadata": {
        "id": "ce3Soy4Hh5op"
      },
      "source": [
        "# Random Number\n",
        "\n",
        "import random\n",
        "\n",
        "print(\n",
        "\"\\033[0;33;40m\"\n",
        "\"======================================================= \\n\"\n",
        "\"Random number Assignment \\n\"\n",
        "\"======================================================= \\n\"\n",
        "\"\\033[0;0m\"\n",
        ")\n",
        "\n",
        "myRandom = random.randrange(1,11)\n",
        "print('You have chance 5 times...')\n",
        "i = 0\n",
        "while True:\n",
        "    i+=1\n",
        "    myNumber = int(input('Input your number 1-10 or type 0 to exit the game : '))\n",
        "    if myNumber == 0 or i == 5:\n",
        "        print('Sorry !!!')\n",
        "        break\n",
        "\n",
        "    if myNumber == myRandom :\n",
        "        print('Random number is : ',myRandom)\n",
        "        print('You win')\n",
        "        break\n",
        "    elif myNumber == myRandom+1 or myNumber == myRandom-1:\n",
        "        print('It is very close')\n",
        "    else:\n",
        "        print('It is too far')\n",
        "\n",
        "  "
      ],
      "execution_count": null,
      "outputs": []
    }
  ]
}